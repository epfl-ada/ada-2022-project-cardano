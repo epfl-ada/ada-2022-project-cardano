{
 "cells": [
  {
   "cell_type": "code",
   "execution_count": 1,
   "outputs": [],
   "source": [
    "import  pandas as pd\n",
    "import ast\n",
    "from bs4 import BeautifulSoup\n",
    "import requests\n",
    "import numpy as np\n",
    "\n",
    "PATH_IN = './datasets/moviedata/'"
   ],
   "metadata": {
    "collapsed": false
   }
  },
  {
   "cell_type": "markdown",
   "source": [
    "First, we start from the dataset obtained in the file named projectMilestone2.ipynb with a few modifications/ discussions we find necessary after more in-depth analysis performed on the dataset:\n",
    "1. We decided to keep movies longer than 300 minutes, since after closer verification they turn out to be valid movies (except the ones that will be corrected in the following cells).\n",
    "2. In the feedback for Milestone 2 it was mentioned that we don't do anything with movies that last 0 minutes. We checked them on IMDb website, and they are valid movies. Movie industry, in its infancy produced extremely short from current perspective 'movies'. Even though they are short, they exist as examples of the beginning of cinematography.\n",
    "3. It was also pointed out that one of release years is 1010. Since this is clearly a problem coming from the way data was collected, we decided not only to check this particular movie (with release year being, as expected, 2010), but also other very old ones. In our analysis we haven't found any other incorrect value.\n",
    "4. Another problem we had, was lacking of clear choice of features needed for our analysis. Since we find this argument as a crucial one, we'll pay strong attention to the feature selection. For the sake of broadening our horizon, we decided to extend our original dataset by additional information obtained from IMDb pro (paid, extended version of IMDb)."
   ],
   "metadata": {
    "collapsed": false
   }
  },
  {
   "cell_type": "markdown",
   "source": [
    "## 1. Load the reformatted data obtained in Milestone 2 <a class=\"anchor\" id=\"chapter1\"></a>"
   ],
   "metadata": {
    "collapsed": false
   }
  },
  {
   "cell_type": "code",
   "execution_count": 2,
   "outputs": [
    {
     "data": {
      "text/plain": "   Wikipedia ID Freebase ID  \\\n0        975900   /m/03vyhn   \n1       3196793   /m/08yl5d   \n2      28463795  /m/0crgdbh   \n\n                                                Name  Release date  Runtime  \\\n0                                     Ghosts of Mars    20010824.0     98.0   \n1  Getting Away with Murder: The JonBenét Ramsey ...    20000216.0     95.0   \n2                                        Brun bitter    19880000.0     83.0   \n\n       Languages                     Countries  \\\n0    ['English']  ['United States of America']   \n1    ['English']  ['United States of America']   \n2  ['Norwegian']                    ['Norway']   \n\n                                              Genres    IMDb ID  \\\n0  ['Thriller', 'Science Fiction', 'Horror', 'Adv...  tt0228333   \n1  ['Mystery', 'Biographical film', 'Drama', 'Cri...  tt0245916   \n2                         ['Crime Fiction', 'Drama']  tt0094806   \n\n   averageRating  numVotes  \n0            4.9     55240  \n1            5.9        66  \n2            5.7        40  ",
      "text/html": "<div>\n<style scoped>\n    .dataframe tbody tr th:only-of-type {\n        vertical-align: middle;\n    }\n\n    .dataframe tbody tr th {\n        vertical-align: top;\n    }\n\n    .dataframe thead th {\n        text-align: right;\n    }\n</style>\n<table border=\"1\" class=\"dataframe\">\n  <thead>\n    <tr style=\"text-align: right;\">\n      <th></th>\n      <th>Wikipedia ID</th>\n      <th>Freebase ID</th>\n      <th>Name</th>\n      <th>Release date</th>\n      <th>Runtime</th>\n      <th>Languages</th>\n      <th>Countries</th>\n      <th>Genres</th>\n      <th>IMDb ID</th>\n      <th>averageRating</th>\n      <th>numVotes</th>\n    </tr>\n  </thead>\n  <tbody>\n    <tr>\n      <th>0</th>\n      <td>975900</td>\n      <td>/m/03vyhn</td>\n      <td>Ghosts of Mars</td>\n      <td>20010824.0</td>\n      <td>98.0</td>\n      <td>['English']</td>\n      <td>['United States of America']</td>\n      <td>['Thriller', 'Science Fiction', 'Horror', 'Adv...</td>\n      <td>tt0228333</td>\n      <td>4.9</td>\n      <td>55240</td>\n    </tr>\n    <tr>\n      <th>1</th>\n      <td>3196793</td>\n      <td>/m/08yl5d</td>\n      <td>Getting Away with Murder: The JonBenét Ramsey ...</td>\n      <td>20000216.0</td>\n      <td>95.0</td>\n      <td>['English']</td>\n      <td>['United States of America']</td>\n      <td>['Mystery', 'Biographical film', 'Drama', 'Cri...</td>\n      <td>tt0245916</td>\n      <td>5.9</td>\n      <td>66</td>\n    </tr>\n    <tr>\n      <th>2</th>\n      <td>28463795</td>\n      <td>/m/0crgdbh</td>\n      <td>Brun bitter</td>\n      <td>19880000.0</td>\n      <td>83.0</td>\n      <td>['Norwegian']</td>\n      <td>['Norway']</td>\n      <td>['Crime Fiction', 'Drama']</td>\n      <td>tt0094806</td>\n      <td>5.7</td>\n      <td>40</td>\n    </tr>\n  </tbody>\n</table>\n</div>"
     },
     "execution_count": 2,
     "metadata": {},
     "output_type": "execute_result"
    }
   ],
   "source": [
    "df = pd.read_csv(PATH_IN + 'experimental_movie_metadata.csv')\n",
    "df.head(3)"
   ],
   "metadata": {
    "collapsed": false
   }
  },
  {
   "cell_type": "markdown",
   "source": [
    "## 2. Extend our dataset by performing scraping on IMDb pro <a class=\"anchor\" id=\"chapter2\"></a>"
   ],
   "metadata": {
    "collapsed": false
   }
  },
  {
   "cell_type": "markdown",
   "source": [
    "In order to include more details about movies in our analysis, we wrote a small scraping script that obtains the following, additional features:\n",
    "* budgets used for producing a movie\n",
    "* mpaas, i.e. rating provided by Motion Picture Association of America\n",
    "* box_offices, total revenues obtained by a movie\n",
    "* directors, list of people responsible for direction\n",
    "* writers, list of people responsible for script\n",
    "* producers, list of people responsible for production\n",
    "* composers, list of people responsible for music\n",
    "* cinematographers, list of people responsible for photographing/ recording\n",
    "* editors, list of people responsible for editing.\n",
    "\n",
    "Due to privacy reasons, we decided to keep both headers and cookies secret as they are personal details, indicating one of the users (i.e. one of our teammates).\n",
    "\n",
    "For features that require individual approach (budgets, box offices, mpaas) we perform separate scrapings, but for people responsible for movies we use scraping_people function, since html-wise they are better-structured on IMDb pro."
   ],
   "metadata": {
    "collapsed": false
   }
  },
  {
   "cell_type": "code",
   "execution_count": 80,
   "outputs": [],
   "source": [
    "# cookies = {cookies}\n",
    "# headers = {headers}"
   ],
   "metadata": {
    "collapsed": false
   }
  },
  {
   "cell_type": "code",
   "execution_count": 92,
   "outputs": [],
   "source": [
    "\"\"\"\n",
    "    function that scraps data related to movie creators, i.e. directors, producers,\n",
    "    writers, composers, editors, cinematographers\n",
    "\"\"\"\n",
    "def scraping_people(df, role, cookies, headers):\n",
    "    values = []\n",
    "    for ix, id in enumerate(df['IMDb ID']):\n",
    "        print(ix)\n",
    "        html_text = requests.get('https://pro.imdb.com/title/' + id, cookies=cookies, headers=headers)\n",
    "        soup = BeautifulSoup(html_text.content, 'html.parser')\n",
    "        try:\n",
    "            values_soup = []\n",
    "            values_helper = soup.find('div', {'id': role + '_summary'}).find_all('a', class_ = 'a-size- a-align- a-link- ttip')\n",
    "            for value in range(len(values_helper)):\n",
    "                values_soup.append(values_helper[value].get_text())\n",
    "        except AttributeError:\n",
    "            values_soup = None\n",
    "        values.append(values_soup)\n",
    "    return values"
   ],
   "metadata": {
    "collapsed": false
   }
  },
  {
   "cell_type": "code",
   "execution_count": null,
   "outputs": [],
   "source": [
    "directors = scraping_people(df_extended, 'director', cookies, headers)\n",
    "producers = scraping_people(df_extended, 'producer', cookies, headers)\n",
    "writers = scraping_people(df_extended, 'writer', cookies, headers)\n",
    "composers = scraping_people(df_extended, 'composer', cookies, headers)\n",
    "editors = scraping_people(df_extended, 'editor', cookies, headers)\n",
    "cinematographers = scraping_people(df_extended, 'cinematographer', cookies, headers)"
   ],
   "metadata": {
    "collapsed": false
   }
  },
  {
   "cell_type": "code",
   "execution_count": 23,
   "outputs": [
    {
     "ename": "NameError",
     "evalue": "name 'df' is not defined",
     "output_type": "error",
     "traceback": [
      "\u001B[0;31m---------------------------------------------------------------------------\u001B[0m",
      "\u001B[0;31mNameError\u001B[0m                                 Traceback (most recent call last)",
      "\u001B[0;32m/var/folders/22/z208ks5x5vv4dfqj0fjxt9l00000gn/T/ipykernel_38234/2741554422.py\u001B[0m in \u001B[0;36m<module>\u001B[0;34m\u001B[0m\n\u001B[1;32m      1\u001B[0m \u001B[0mlengths\u001B[0m \u001B[0;34m=\u001B[0m \u001B[0;34m[\u001B[0m\u001B[0;34m]\u001B[0m\u001B[0;34m\u001B[0m\u001B[0;34m\u001B[0m\u001B[0m\n\u001B[1;32m      2\u001B[0m \u001B[0;34m\u001B[0m\u001B[0m\n\u001B[0;32m----> 3\u001B[0;31m \u001B[0;32mfor\u001B[0m \u001B[0mix\u001B[0m\u001B[0;34m,\u001B[0m \u001B[0mid\u001B[0m \u001B[0;32min\u001B[0m \u001B[0menumerate\u001B[0m\u001B[0;34m(\u001B[0m\u001B[0mdf\u001B[0m\u001B[0;34m[\u001B[0m\u001B[0;34m'IMDb ID'\u001B[0m\u001B[0;34m]\u001B[0m\u001B[0;34m[\u001B[0m\u001B[0;34m:\u001B[0m\u001B[0;36m100\u001B[0m\u001B[0;34m]\u001B[0m\u001B[0;34m)\u001B[0m\u001B[0;34m:\u001B[0m\u001B[0;34m\u001B[0m\u001B[0;34m\u001B[0m\u001B[0m\n\u001B[0m\u001B[1;32m      4\u001B[0m     \u001B[0mprint\u001B[0m\u001B[0;34m(\u001B[0m\u001B[0mix\u001B[0m\u001B[0;34m)\u001B[0m\u001B[0;34m\u001B[0m\u001B[0;34m\u001B[0m\u001B[0m\n\u001B[1;32m      5\u001B[0m     \u001B[0mhtml_text\u001B[0m \u001B[0;34m=\u001B[0m \u001B[0mrequests\u001B[0m\u001B[0;34m.\u001B[0m\u001B[0mget\u001B[0m\u001B[0;34m(\u001B[0m\u001B[0;34m'https://pro.imdb.com/title/'\u001B[0m \u001B[0;34m+\u001B[0m \u001B[0mid\u001B[0m\u001B[0;34m,\u001B[0m \u001B[0mcookies\u001B[0m\u001B[0;34m=\u001B[0m\u001B[0mcookies\u001B[0m\u001B[0;34m,\u001B[0m \u001B[0mheaders\u001B[0m\u001B[0;34m=\u001B[0m\u001B[0mheaders\u001B[0m\u001B[0;34m)\u001B[0m\u001B[0;34m\u001B[0m\u001B[0;34m\u001B[0m\u001B[0m\n",
      "\u001B[0;31mNameError\u001B[0m: name 'df' is not defined"
     ]
    }
   ],
   "source": [
    "budgets, mpaas, box_offices = [], [], []\n",
    "\n",
    "for ix, id in enumerate(df['IMDb ID']):\n",
    "    print(ix)\n",
    "    html_text = requests.get('https://pro.imdb.com/title/' + id, cookies=cookies, headers=headers)\n",
    "    soup = BeautifulSoup(html_text.content, 'html.parser')\n",
    "    #budget\n",
    "    try:\n",
    "        length = soup.find('span', class_ = 'a-section a-spacing-small budget_summary').get_text()\n",
    "        budget = int(''.join(filter(str.isdigit, budget)))\n",
    "    except AttributeError:\n",
    "        budget = None\n",
    "    budgets.append(budget)\n",
    "    # mpaa\n",
    "    try:\n",
    "        mpaa = soup.find('span', class_ = 'a-color-tertiary').get_text().replace(' ', '').replace('\\n', '')\n",
    "    except AttributeError:\n",
    "        mpaa = None\n",
    "    mpaas.append(mpaa)\n",
    "    # box office\n",
    "    try:\n",
    "        box_office = soup.find('div', class_ = 'a-section a-spacing-small gross_world_summary').get_text()\n",
    "        box_office = int(''.join(filter(str.isdigit, box_office)))\n",
    "    except AttributeError:\n",
    "        try:\n",
    "            box_office = soup.find('div', class_ = 'a-section a-spacing-small gross_usa_summary').get_text()\n",
    "            box_office = int(''.join(filter(str.isdigit, box_office)))\n",
    "        except AttributeError:\n",
    "            box_office = None\n",
    "    box_offices.append(box_office)"
   ],
   "metadata": {
    "collapsed": false
   }
  },
  {
   "cell_type": "code",
   "execution_count": null,
   "outputs": [],
   "source": [
    "dict1 = {'Budgets': budgets, 'Mpaas': mpaas, 'Box offices': box_offices, 'Directors': directors, 'Writers': writers, 'Producers': producers, 'Composers': composers, 'Cinematographers': cinematographers, 'Editors': editors}\n",
    "df1 = pd.DataFrame(dict1)"
   ],
   "metadata": {
    "collapsed": false
   }
  },
  {
   "cell_type": "code",
   "execution_count": null,
   "outputs": [],
   "source": [
    "df_extended = pd.concat([df, df1], axis = 1)"
   ],
   "metadata": {
    "collapsed": false
   }
  },
  {
   "cell_type": "code",
   "execution_count": 19,
   "outputs": [
    {
     "data": {
      "text/plain": "   Wikipedia ID Freebase ID  \\\n0        975900   /m/03vyhn   \n1       3196793   /m/08yl5d   \n2      28463795  /m/0crgdbh   \n\n                                                Name  Release date  Runtime  \\\n0                                     Ghosts of Mars    20010824.0     98.0   \n1  Getting Away with Murder: The JonBenét Ramsey ...    20000216.0     95.0   \n2                                        Brun bitter    19880000.0     83.0   \n\n       Languages                     Countries  \\\n0    ['English']  ['United States of America']   \n1    ['English']  ['United States of America']   \n2  ['Norwegian']                    ['Norway']   \n\n                                              Genres    IMDb ID  \\\n0  ['Thriller', 'Science Fiction', 'Horror', 'Adv...  tt0228333   \n1  ['Mystery', 'Biographical film', 'Drama', 'Cri...  tt0245916   \n2                         ['Crime Fiction', 'Drama']  tt0094806   \n\n   averageRating  numVotes     Budgets Mpaas  Box offices           Directors  \\\n0            4.9     55240  28000000.0     R   14010832.0  ['John Carpenter']   \n1            5.9        66         NaN   NaN          NaN    ['Edward Lucas']   \n2            5.7        40         NaN   NaN          NaN    ['Sølve Skagen']   \n\n                                Writers             Producers  \\\n0    ['Larry Sulkis', 'John Carpenter']        ['Sandy King']   \n1   ['Michael A. Graham', 'Ted Haimes']  ['Michael Shevloff']   \n2  ['Sølve Skagen', 'Gunnar Staalesen']      ['Dag Alveberg']   \n\n                        Composers              Cinematographers  \\\n0   ['Anthrax', 'John Carpenter']             ['Gary B. Kibbe']   \n1             ['Taylor M. Uhler']              ['Shawn Maurer']   \n2  ['Geir Bøhren', 'Bent Åserud']  ['Erling Thurmann-Andersen']   \n\n                  Editors  \n0  ['Paul C. Warschilka']  \n1          ['David Post']  \n2        ['Malte Wadman']  ",
      "text/html": "<div>\n<style scoped>\n    .dataframe tbody tr th:only-of-type {\n        vertical-align: middle;\n    }\n\n    .dataframe tbody tr th {\n        vertical-align: top;\n    }\n\n    .dataframe thead th {\n        text-align: right;\n    }\n</style>\n<table border=\"1\" class=\"dataframe\">\n  <thead>\n    <tr style=\"text-align: right;\">\n      <th></th>\n      <th>Wikipedia ID</th>\n      <th>Freebase ID</th>\n      <th>Name</th>\n      <th>Release date</th>\n      <th>Runtime</th>\n      <th>Languages</th>\n      <th>Countries</th>\n      <th>Genres</th>\n      <th>IMDb ID</th>\n      <th>averageRating</th>\n      <th>numVotes</th>\n      <th>Budgets</th>\n      <th>Mpaas</th>\n      <th>Box offices</th>\n      <th>Directors</th>\n      <th>Writers</th>\n      <th>Producers</th>\n      <th>Composers</th>\n      <th>Cinematographers</th>\n      <th>Editors</th>\n    </tr>\n  </thead>\n  <tbody>\n    <tr>\n      <th>0</th>\n      <td>975900</td>\n      <td>/m/03vyhn</td>\n      <td>Ghosts of Mars</td>\n      <td>20010824.0</td>\n      <td>98.0</td>\n      <td>['English']</td>\n      <td>['United States of America']</td>\n      <td>['Thriller', 'Science Fiction', 'Horror', 'Adv...</td>\n      <td>tt0228333</td>\n      <td>4.9</td>\n      <td>55240</td>\n      <td>28000000.0</td>\n      <td>R</td>\n      <td>14010832.0</td>\n      <td>['John Carpenter']</td>\n      <td>['Larry Sulkis', 'John Carpenter']</td>\n      <td>['Sandy King']</td>\n      <td>['Anthrax', 'John Carpenter']</td>\n      <td>['Gary B. Kibbe']</td>\n      <td>['Paul C. Warschilka']</td>\n    </tr>\n    <tr>\n      <th>1</th>\n      <td>3196793</td>\n      <td>/m/08yl5d</td>\n      <td>Getting Away with Murder: The JonBenét Ramsey ...</td>\n      <td>20000216.0</td>\n      <td>95.0</td>\n      <td>['English']</td>\n      <td>['United States of America']</td>\n      <td>['Mystery', 'Biographical film', 'Drama', 'Cri...</td>\n      <td>tt0245916</td>\n      <td>5.9</td>\n      <td>66</td>\n      <td>NaN</td>\n      <td>NaN</td>\n      <td>NaN</td>\n      <td>['Edward Lucas']</td>\n      <td>['Michael A. Graham', 'Ted Haimes']</td>\n      <td>['Michael Shevloff']</td>\n      <td>['Taylor M. Uhler']</td>\n      <td>['Shawn Maurer']</td>\n      <td>['David Post']</td>\n    </tr>\n    <tr>\n      <th>2</th>\n      <td>28463795</td>\n      <td>/m/0crgdbh</td>\n      <td>Brun bitter</td>\n      <td>19880000.0</td>\n      <td>83.0</td>\n      <td>['Norwegian']</td>\n      <td>['Norway']</td>\n      <td>['Crime Fiction', 'Drama']</td>\n      <td>tt0094806</td>\n      <td>5.7</td>\n      <td>40</td>\n      <td>NaN</td>\n      <td>NaN</td>\n      <td>NaN</td>\n      <td>['Sølve Skagen']</td>\n      <td>['Sølve Skagen', 'Gunnar Staalesen']</td>\n      <td>['Dag Alveberg']</td>\n      <td>['Geir Bøhren', 'Bent Åserud']</td>\n      <td>['Erling Thurmann-Andersen']</td>\n      <td>['Malte Wadman']</td>\n    </tr>\n  </tbody>\n</table>\n</div>"
     },
     "execution_count": 19,
     "metadata": {},
     "output_type": "execute_result"
    }
   ],
   "source": [
    "df_extended.head(3)"
   ],
   "metadata": {
    "collapsed": false
   }
  },
  {
   "cell_type": "markdown",
   "source": [
    " ## 3. Preprocessing <a class=\"anchor\" id=\"chapter3\"></a>"
   ],
   "metadata": {
    "collapsed": false
   }
  },
  {
   "cell_type": "markdown",
   "source": [
    "In this section we perform final preprocessing steps including:\n",
    "1. Removing duplicates, since we noticed that we have around 900 repetitions.\n",
    "2. Fixing a typo, being a release year 1010 instead of 2010\n",
    "3. Converting strings of lists into list of strings for easier handling the data\n",
    "4. Filtering out movie types we don't want to keep (e.g. series)\n",
    "5. Adding weighted rating column for having metric similar to the one used by IMDb for their ranking\n",
    "6. Correcting runtimes\n",
    "7. Cleaning countries and languages"
   ],
   "metadata": {
    "collapsed": false
   }
  },
  {
   "cell_type": "code",
   "execution_count": null,
   "outputs": [],
   "source": [
    "# remove duplicates\n",
    "df_extended = df_extended.drop_duplicates()"
   ],
   "metadata": {
    "collapsed": false
   }
  },
  {
   "cell_type": "code",
   "execution_count": null,
   "outputs": [],
   "source": [
    "# fixing a typo where a movie was produced in 1010 (correct one is 2010, we checked it manually)\n",
    "df_extended.loc[51782, 'Release date'] = 20101202"
   ],
   "metadata": {
    "collapsed": false
   }
  },
  {
   "cell_type": "code",
   "execution_count": null,
   "outputs": [],
   "source": [
    "# Convert string of a list, to a list\n",
    "# eg convert '['English', 'French']' to ['English', 'French']\n",
    "to_convert = ['Languages', 'Countries', 'Genres', 'Directors', 'Writers', 'Producers', 'Composers', 'Cinematographers', 'Editors']\n",
    "for elem in to_convert:\n",
    "    for x in range(len(df_extended)):\n",
    "        try:\n",
    "            df_extended[elem][x] = ast.literal_eval(df_extended_copy[elem][x])\n",
    "        except ValueError:\n",
    "            df_extended[elem][x] = df_extended_copy[elem][x]"
   ],
   "metadata": {
    "collapsed": false
   }
  },
  {
   "cell_type": "markdown",
   "source": [
    "We can summarize information about our dataset as follows:"
   ],
   "metadata": {
    "collapsed": false
   }
  },
  {
   "cell_type": "code",
   "execution_count": 147,
   "outputs": [
    {
     "name": "stdout",
     "output_type": "stream",
     "text": [
      "<class 'pandas.core.frame.DataFrame'>\n",
      "RangeIndex: 66446 entries, 0 to 66445\n",
      "Data columns (total 20 columns):\n",
      " #   Column            Non-Null Count  Dtype  \n",
      "---  ------            --------------  -----  \n",
      " 0   Wikipedia ID      66446 non-null  int64  \n",
      " 1   Freebase ID       66446 non-null  object \n",
      " 2   Name              66446 non-null  object \n",
      " 3   Release date      62290 non-null  float64\n",
      " 4   Runtime           54276 non-null  float64\n",
      " 5   Languages         66446 non-null  object \n",
      " 6   Countries         66446 non-null  object \n",
      " 7   Genres            66446 non-null  object \n",
      " 8   IMDb ID           66446 non-null  object \n",
      " 9   averageRating     66446 non-null  float64\n",
      " 10  numVotes          66446 non-null  int64  \n",
      " 11  Budgets           16167 non-null  float64\n",
      " 12  Mpaas             38272 non-null  object \n",
      " 13  Box offices       17633 non-null  float64\n",
      " 14  Directors         65667 non-null  object \n",
      " 15  Writers           61378 non-null  object \n",
      " 16  Producers         54028 non-null  object \n",
      " 17  Composers         51608 non-null  object \n",
      " 18  Cinematographers  58409 non-null  object \n",
      " 19  Editors           55494 non-null  object \n",
      "dtypes: float64(5), int64(2), object(13)\n",
      "memory usage: 10.1+ MB\n"
     ]
    }
   ],
   "source": [
    "df_extended.info()"
   ],
   "metadata": {
    "collapsed": false
   }
  },
  {
   "cell_type": "markdown",
   "source": [
    "We can observe that for attributes box offices and budgets, most of the values are missing. However, since for each of them we have at least 16k values, we conclude that analyzing them might be already informative and can bring interesting insights."
   ],
   "metadata": {
    "collapsed": false
   }
  },
  {
   "cell_type": "markdown",
   "source": [
    "For descriptive analysis, we start with 'describe' function:"
   ],
   "metadata": {
    "collapsed": false
   }
  },
  {
   "cell_type": "code",
   "execution_count": 148,
   "outputs": [
    {
     "data": {
      "text/plain": "       Wikipedia ID  Release date       Runtime  averageRating      numVotes  \\\ncount  6.644600e+04  6.229000e+04  5.427600e+04   66446.000000  6.644600e+04   \nmean   1.650500e+07  1.979320e+07  1.159863e+02       6.236801  1.100798e+04   \nstd    1.095881e+07  2.706520e+05  4.633204e+03       1.152128  6.373588e+04   \nmin    3.300000e+02  1.888000e+07  0.000000e+00       1.000000  5.000000e+00   \n25%    6.184091e+06  1.959013e+07  8.400000e+01       5.600000  1.110000e+02   \n50%    1.604821e+07  1.986120e+07  9.400000e+01       6.400000  5.010000e+02   \n75%    2.607127e+07  2.003093e+07  1.070000e+02       7.000000  2.311000e+03   \nmax    3.750192e+07  2.016032e+07  1.079281e+06      10.000000  2.659398e+06   \n\n            Budgets   Box offices  \ncount  1.616700e+04  1.763300e+04  \nmean   3.700631e+07  2.709415e+07  \nstd    4.689300e+08  8.904326e+07  \nmin    0.000000e+00  1.000000e+00  \n25%    8.000000e+05  1.780950e+05  \n50%    3.900000e+06  1.820049e+06  \n75%    1.600000e+07  1.440156e+07  \nmax    3.000000e+10  2.922918e+09  ",
      "text/html": "<div>\n<style scoped>\n    .dataframe tbody tr th:only-of-type {\n        vertical-align: middle;\n    }\n\n    .dataframe tbody tr th {\n        vertical-align: top;\n    }\n\n    .dataframe thead th {\n        text-align: right;\n    }\n</style>\n<table border=\"1\" class=\"dataframe\">\n  <thead>\n    <tr style=\"text-align: right;\">\n      <th></th>\n      <th>Wikipedia ID</th>\n      <th>Release date</th>\n      <th>Runtime</th>\n      <th>averageRating</th>\n      <th>numVotes</th>\n      <th>Budgets</th>\n      <th>Box offices</th>\n    </tr>\n  </thead>\n  <tbody>\n    <tr>\n      <th>count</th>\n      <td>6.644600e+04</td>\n      <td>6.229000e+04</td>\n      <td>5.427600e+04</td>\n      <td>66446.000000</td>\n      <td>6.644600e+04</td>\n      <td>1.616700e+04</td>\n      <td>1.763300e+04</td>\n    </tr>\n    <tr>\n      <th>mean</th>\n      <td>1.650500e+07</td>\n      <td>1.979320e+07</td>\n      <td>1.159863e+02</td>\n      <td>6.236801</td>\n      <td>1.100798e+04</td>\n      <td>3.700631e+07</td>\n      <td>2.709415e+07</td>\n    </tr>\n    <tr>\n      <th>std</th>\n      <td>1.095881e+07</td>\n      <td>2.706520e+05</td>\n      <td>4.633204e+03</td>\n      <td>1.152128</td>\n      <td>6.373588e+04</td>\n      <td>4.689300e+08</td>\n      <td>8.904326e+07</td>\n    </tr>\n    <tr>\n      <th>min</th>\n      <td>3.300000e+02</td>\n      <td>1.888000e+07</td>\n      <td>0.000000e+00</td>\n      <td>1.000000</td>\n      <td>5.000000e+00</td>\n      <td>0.000000e+00</td>\n      <td>1.000000e+00</td>\n    </tr>\n    <tr>\n      <th>25%</th>\n      <td>6.184091e+06</td>\n      <td>1.959013e+07</td>\n      <td>8.400000e+01</td>\n      <td>5.600000</td>\n      <td>1.110000e+02</td>\n      <td>8.000000e+05</td>\n      <td>1.780950e+05</td>\n    </tr>\n    <tr>\n      <th>50%</th>\n      <td>1.604821e+07</td>\n      <td>1.986120e+07</td>\n      <td>9.400000e+01</td>\n      <td>6.400000</td>\n      <td>5.010000e+02</td>\n      <td>3.900000e+06</td>\n      <td>1.820049e+06</td>\n    </tr>\n    <tr>\n      <th>75%</th>\n      <td>2.607127e+07</td>\n      <td>2.003093e+07</td>\n      <td>1.070000e+02</td>\n      <td>7.000000</td>\n      <td>2.311000e+03</td>\n      <td>1.600000e+07</td>\n      <td>1.440156e+07</td>\n    </tr>\n    <tr>\n      <th>max</th>\n      <td>3.750192e+07</td>\n      <td>2.016032e+07</td>\n      <td>1.079281e+06</td>\n      <td>10.000000</td>\n      <td>2.659398e+06</td>\n      <td>3.000000e+10</td>\n      <td>2.922918e+09</td>\n    </tr>\n  </tbody>\n</table>\n</div>"
     },
     "execution_count": 148,
     "metadata": {},
     "output_type": "execute_result"
    }
   ],
   "source": [
    "df_extended.describe()"
   ],
   "metadata": {
    "collapsed": false
   }
  },
  {
   "cell_type": "markdown",
   "source": [
    "Here, we can observe several things:\n",
    "1. Max runtime is clearly an outlier, but because of its appearance we decided to write another script to double-check the lengths of the movies, based on the information provided on IMDb pro.\n",
    "2. Min release date is 1888 and as we manually checked, it's a valid movie.\n",
    "3. There is one movie with box office 1$. Since this exception doesn't have huge influence on our analysis, we decide to keep it. Considering we have such outliers, in our exploratory data analysis we'll use interquartile range rather than e.g. standard deviation, since IQR is less sensible to outliers."
   ],
   "metadata": {
    "collapsed": false
   }
  },
  {
   "cell_type": "code",
   "execution_count": 15,
   "outputs": [
    {
     "data": {
      "text/plain": "   Wikipedia ID Freebase ID  \\\n0        975900   /m/03vyhn   \n1       3196793   /m/08yl5d   \n2      28463795  /m/0crgdbh   \n\n                                                Name  Release date  Runtime  \\\n0                                     Ghosts of Mars    20010824.0     98.0   \n1  Getting Away with Murder: The JonBenét Ramsey ...    20000216.0     95.0   \n2                                        Brun bitter    19880000.0     83.0   \n\n       Languages                     Countries  \\\n0    ['English']  ['United States of America']   \n1    ['English']  ['United States of America']   \n2  ['Norwegian']                    ['Norway']   \n\n                                              Genres    IMDb ID  \\\n0  ['Thriller', 'Science Fiction', 'Horror', 'Adv...  tt0228333   \n1  ['Mystery', 'Biographical film', 'Drama', 'Cri...  tt0245916   \n2                         ['Crime Fiction', 'Drama']  tt0094806   \n\n   averageRating  numVotes     Budgets Mpaas  Box offices           Directors  \\\n0            4.9     55240  28000000.0     R   14010832.0  ['John Carpenter']   \n1            5.9        66         NaN   NaN          NaN    ['Edward Lucas']   \n2            5.7        40         NaN   NaN          NaN    ['Sølve Skagen']   \n\n                                Writers             Producers  \\\n0    ['Larry Sulkis', 'John Carpenter']        ['Sandy King']   \n1   ['Michael A. Graham', 'Ted Haimes']  ['Michael Shevloff']   \n2  ['Sølve Skagen', 'Gunnar Staalesen']      ['Dag Alveberg']   \n\n                        Composers              Cinematographers  \\\n0   ['Anthrax', 'John Carpenter']             ['Gary B. Kibbe']   \n1             ['Taylor M. Uhler']              ['Shawn Maurer']   \n2  ['Geir Bøhren', 'Bent Åserud']  ['Erling Thurmann-Andersen']   \n\n                  Editors  \n0  ['Paul C. Warschilka']  \n1          ['David Post']  \n2        ['Malte Wadman']  ",
      "text/html": "<div>\n<style scoped>\n    .dataframe tbody tr th:only-of-type {\n        vertical-align: middle;\n    }\n\n    .dataframe tbody tr th {\n        vertical-align: top;\n    }\n\n    .dataframe thead th {\n        text-align: right;\n    }\n</style>\n<table border=\"1\" class=\"dataframe\">\n  <thead>\n    <tr style=\"text-align: right;\">\n      <th></th>\n      <th>Wikipedia ID</th>\n      <th>Freebase ID</th>\n      <th>Name</th>\n      <th>Release date</th>\n      <th>Runtime</th>\n      <th>Languages</th>\n      <th>Countries</th>\n      <th>Genres</th>\n      <th>IMDb ID</th>\n      <th>averageRating</th>\n      <th>numVotes</th>\n      <th>Budgets</th>\n      <th>Mpaas</th>\n      <th>Box offices</th>\n      <th>Directors</th>\n      <th>Writers</th>\n      <th>Producers</th>\n      <th>Composers</th>\n      <th>Cinematographers</th>\n      <th>Editors</th>\n    </tr>\n  </thead>\n  <tbody>\n    <tr>\n      <th>0</th>\n      <td>975900</td>\n      <td>/m/03vyhn</td>\n      <td>Ghosts of Mars</td>\n      <td>20010824.0</td>\n      <td>98.0</td>\n      <td>['English']</td>\n      <td>['United States of America']</td>\n      <td>['Thriller', 'Science Fiction', 'Horror', 'Adv...</td>\n      <td>tt0228333</td>\n      <td>4.9</td>\n      <td>55240</td>\n      <td>28000000.0</td>\n      <td>R</td>\n      <td>14010832.0</td>\n      <td>['John Carpenter']</td>\n      <td>['Larry Sulkis', 'John Carpenter']</td>\n      <td>['Sandy King']</td>\n      <td>['Anthrax', 'John Carpenter']</td>\n      <td>['Gary B. Kibbe']</td>\n      <td>['Paul C. Warschilka']</td>\n    </tr>\n    <tr>\n      <th>1</th>\n      <td>3196793</td>\n      <td>/m/08yl5d</td>\n      <td>Getting Away with Murder: The JonBenét Ramsey ...</td>\n      <td>20000216.0</td>\n      <td>95.0</td>\n      <td>['English']</td>\n      <td>['United States of America']</td>\n      <td>['Mystery', 'Biographical film', 'Drama', 'Cri...</td>\n      <td>tt0245916</td>\n      <td>5.9</td>\n      <td>66</td>\n      <td>NaN</td>\n      <td>NaN</td>\n      <td>NaN</td>\n      <td>['Edward Lucas']</td>\n      <td>['Michael A. Graham', 'Ted Haimes']</td>\n      <td>['Michael Shevloff']</td>\n      <td>['Taylor M. Uhler']</td>\n      <td>['Shawn Maurer']</td>\n      <td>['David Post']</td>\n    </tr>\n    <tr>\n      <th>2</th>\n      <td>28463795</td>\n      <td>/m/0crgdbh</td>\n      <td>Brun bitter</td>\n      <td>19880000.0</td>\n      <td>83.0</td>\n      <td>['Norwegian']</td>\n      <td>['Norway']</td>\n      <td>['Crime Fiction', 'Drama']</td>\n      <td>tt0094806</td>\n      <td>5.7</td>\n      <td>40</td>\n      <td>NaN</td>\n      <td>NaN</td>\n      <td>NaN</td>\n      <td>['Sølve Skagen']</td>\n      <td>['Sølve Skagen', 'Gunnar Staalesen']</td>\n      <td>['Dag Alveberg']</td>\n      <td>['Geir Bøhren', 'Bent Åserud']</td>\n      <td>['Erling Thurmann-Andersen']</td>\n      <td>['Malte Wadman']</td>\n    </tr>\n  </tbody>\n</table>\n</div>"
     },
     "execution_count": 15,
     "metadata": {},
     "output_type": "execute_result"
    }
   ],
   "source": [
    "df_extended.head(3)"
   ],
   "metadata": {
    "collapsed": false
   }
  },
  {
   "cell_type": "markdown",
   "source": [
    "Now we want to filter out all non-movie titles, as we don't want to include any series in our analysis. To do so, we'll use IMDb dataset again, but with primarily focus on so-called \"title types\"."
   ],
   "metadata": {
    "collapsed": false
   }
  },
  {
   "cell_type": "code",
   "execution_count": 16,
   "outputs": [
    {
     "name": "stderr",
     "output_type": "stream",
     "text": [
      "/var/folders/22/z208ks5x5vv4dfqj0fjxt9l00000gn/T/ipykernel_54719/2459562363.py:1: DtypeWarning: Columns (4) have mixed types. Specify dtype option on import or set low_memory=False.\n",
      "  title_basics = pd.read_csv(PATH_IN + 'title_basics.tsv', sep='\\t')\n"
     ]
    }
   ],
   "source": [
    "title_basics = pd.read_csv(PATH_IN + 'title_basics.tsv', sep='\\t')"
   ],
   "metadata": {
    "collapsed": false
   }
  },
  {
   "cell_type": "code",
   "execution_count": 17,
   "outputs": [
    {
     "data": {
      "text/plain": "array(['short', 'movie', 'tvSeries', 'tvShort', 'tvMovie', 'tvEpisode',\n       'tvMiniSeries', 'tvSpecial', 'video', 'videoGame', 'tvPilot'],\n      dtype=object)"
     },
     "execution_count": 17,
     "metadata": {},
     "output_type": "execute_result"
    }
   ],
   "source": [
    "title_basics['titleType'].unique()"
   ],
   "metadata": {
    "collapsed": false
   }
  },
  {
   "cell_type": "markdown",
   "source": [
    "We'll remove the following types from our dataset: tvSeries, tvShort, tvEpisode, tvMiniSeries, videoGame, tvPilot"
   ],
   "metadata": {
    "collapsed": false
   }
  },
  {
   "cell_type": "code",
   "execution_count": 18,
   "outputs": [],
   "source": [
    "def remove_rows(df, col, values):\n",
    "    return df[~df[col].isin(values)]"
   ],
   "metadata": {
    "collapsed": false
   }
  },
  {
   "cell_type": "code",
   "execution_count": 19,
   "outputs": [],
   "source": [
    "# keeping only desirable types\n",
    "title_basics = remove_rows(title_basics, 'titleType', ['tvSeries', 'tvEpisode', 'tvMiniSeries', 'videoGame', 'tvPilot'])"
   ],
   "metadata": {
    "collapsed": false
   }
  },
  {
   "cell_type": "code",
   "execution_count": 20,
   "outputs": [],
   "source": [
    "# filtering our dataset\n",
    "df_extended = df_extended[df_extended['IMDb ID'].isin(title_basics['tconst'])]"
   ],
   "metadata": {
    "collapsed": false
   }
  },
  {
   "cell_type": "code",
   "execution_count": 21,
   "outputs": [],
   "source": [
    "df_extended.reset_index(inplace = True)\n",
    "df_extended = df_extended.drop(columns=['index'])"
   ],
   "metadata": {
    "collapsed": false
   }
  },
  {
   "cell_type": "markdown",
   "source": [
    "Following the suggestions related to weighted ratings (e.g. here https://stats.stackexchange.com/questions/6418/rating-system-taking-account-of-number-of-votes) we decide to add a column with ratings weighted by number of votes given to a movie.\n",
    "The formula is (WR) = (v ÷ (v+m)) × R + (m ÷ (v+m)) × C, where\n",
    "* R = average for the movie (mean) = (Rating)\n",
    "* v = number of votes for the movie = (votes)\n",
    "* m = minimum votes required to be listed in the Top 250 (currently 25000)\n",
    "* C = the mean vote across the whole dataset.\n",
    "\n",
    "Applying this formula causes significant decrease in ratings for movies with a low number of votes, setting it close to the mean of averageRating column. Since we want to have a closer look on movies with many high ratings, to avoid the situation that a movie with 4 ratings being equal 8/10 is 'better' than a movie with 40000 ratings being equal 7.9/10 on average. Like IMDb, we believe that films rated by a small number of people, should not have a key influence on the selection of the most successful movie in the database."
   ],
   "metadata": {
    "collapsed": false
   }
  },
  {
   "cell_type": "code",
   "execution_count": 24,
   "outputs": [
    {
     "name": "stdout",
     "output_type": "stream",
     "text": [
      "Average rating of all movies:  6.229809548418477\n"
     ]
    }
   ],
   "source": [
    "# Weighted rating\n",
    "mean_movie_rating = df_extended['averageRating'].mean()\n",
    "print(\"Average rating of all movies: \", mean_movie_rating)\n",
    "\n",
    "def calculate_wr(movie):\n",
    "    return (movie['numVotes'] / (movie['numVotes'] + 25000)) * movie['averageRating'] + (25000/(movie['numVotes'] + 25000)) * mean_movie_rating\n",
    "\n",
    "df_extended[\"Weighted Rating\"] = df_extended.apply(lambda movie : calculate_wr(movie), axis = 1)"
   ],
   "metadata": {
    "collapsed": false
   }
  },
  {
   "cell_type": "code",
   "execution_count": 25,
   "outputs": [],
   "source": [
    "df_extended_copy = df_extended.copy()"
   ],
   "metadata": {
    "collapsed": false
   }
  },
  {
   "cell_type": "code",
   "execution_count": 26,
   "outputs": [
    {
     "name": "stderr",
     "output_type": "stream",
     "text": [
      "/var/folders/22/z208ks5x5vv4dfqj0fjxt9l00000gn/T/ipykernel_54719/3862521430.py:7: SettingWithCopyWarning: \n",
      "A value is trying to be set on a copy of a slice from a DataFrame\n",
      "\n",
      "See the caveats in the documentation: https://pandas.pydata.org/pandas-docs/stable/user_guide/indexing.html#returning-a-view-versus-a-copy\n",
      "  df_extended[elem][x] = ast.literal_eval(df_extended_copy[elem][x])\n",
      "/var/folders/22/z208ks5x5vv4dfqj0fjxt9l00000gn/T/ipykernel_54719/3862521430.py:9: SettingWithCopyWarning: \n",
      "A value is trying to be set on a copy of a slice from a DataFrame\n",
      "\n",
      "See the caveats in the documentation: https://pandas.pydata.org/pandas-docs/stable/user_guide/indexing.html#returning-a-view-versus-a-copy\n",
      "  df_extended[elem][x] = df_extended_copy[elem][x]\n"
     ]
    }
   ],
   "source": [
    "# Convert string of a list, to a list of strings in order to treat content of our data as separate, meaningful elements\n",
    "# e.g. convert '['English', 'French']' to ['English', 'French']\n",
    "to_convert = ['Languages', 'Countries', 'Genres', 'Directors', 'Writers', 'Producers', 'Composers', 'Cinematographers', 'Editors']\n",
    "for elem in to_convert:\n",
    "    for x in range(len(df_extended)):\n",
    "        try:\n",
    "            df_extended[elem][x] = ast.literal_eval(df_extended_copy[elem][x])\n",
    "        except ValueError:\n",
    "            df_extended[elem][x] = df_extended_copy[elem][x]"
   ],
   "metadata": {
    "collapsed": false
   }
  },
  {
   "cell_type": "markdown",
   "source": [
    "Next, we want to replace all incorrect runtimes in our dataset by lengths of the movies taken from IMDb. As we have seen, current longest movie lasts more than 1 million minutes. To tackle this problem, we run another scraping script."
   ],
   "metadata": {
    "collapsed": false
   }
  },
  {
   "cell_type": "code",
   "execution_count": null,
   "outputs": [],
   "source": [
    "lengths = []\n",
    "\n",
    "for ix, id in enumerate(df_extended['IMDb ID']):\n",
    "    print(ix)\n",
    "    html_text = requests.get('https://pro.imdb.com/title/' + id, cookies=cookies, headers=headers)\n",
    "    soup = BeautifulSoup(html_text.content, 'html.parser')\n",
    "    # runtimes\n",
    "    try:\n",
    "        length = int(np.floor(float(soup.find('span', {'id': 'running_time'}).get_text().replace(' ', '').replace('\\n', '').replace('min', '').replace(\"'\", '').replace(',', ''))))\n",
    "    except AttributeError:\n",
    "        length = None\n",
    "    lengths.append(length)\n",
    "\n",
    "all_lengths = pd.DataFrame(lengths)"
   ],
   "metadata": {
    "collapsed": false
   }
  },
  {
   "cell_type": "code",
   "execution_count": 33,
   "outputs": [],
   "source": [
    "df_extended['Lengths'] = all_lenghts['0']"
   ],
   "metadata": {
    "collapsed": false
   }
  },
  {
   "cell_type": "code",
   "execution_count": 34,
   "outputs": [],
   "source": [
    "# function that takes as input two dataframe columns list1 and list2 and if there is a value in list1, it is put as a value in list2\n",
    "def replace_values_in_list2(df, imdb, runtime):\n",
    "    df[runtime] = df.apply(lambda x: x[imdb] if np.isnan(x[imdb]) == False else x[runtime], axis = 1)\n",
    "    return df"
   ],
   "metadata": {
    "collapsed": false
   }
  },
  {
   "cell_type": "code",
   "execution_count": 35,
   "outputs": [],
   "source": [
    "df_extended = replace_values_in_list2(df_extended, 'Lengths', 'Runtime')\n",
    "df_extended = df_extended.drop(['Lengths'], axis = 1)"
   ],
   "metadata": {
    "collapsed": false
   }
  },
  {
   "cell_type": "markdown",
   "source": [
    "During careful manual investigation we discovered many typos and inconsistencies in both 'Countries' and 'Languages' columns. Thus, for those two attributes we create dictionaries in order to fix and unify invalid values. Additionally, we group countries that appear under different, historical names, but are related to the same country.\n",
    "\n",
    "Since in our dataset we have the United Kingdom, we decided to include all available parts of the UK (Scotland, Ireland, etc.) under one common name United Kingdom. We believe that this approach might be helpful for spatial analysis. If we didn't group those countries we would have obtained many lists with few movies for each. Lastly, this unification is natural, since all of them belong to the UK.\n",
    "\n",
    "Correcting languages properly and fully would require both enormous amount of time and expert knowledge. Comparing to countries, languages and dialects are much more diverse, and as such are less known. Thus, we correct only the ones that are reasonably easy to detect, keeping in mind that cleaning them completely could be a useful improvement for the future analysis."
   ],
   "metadata": {
    "collapsed": false
   }
  },
  {
   "cell_type": "code",
   "execution_count": 37,
   "outputs": [],
   "source": [
    "def unique_values_in_column(df, column_name):\n",
    "    all_values = list(df[column_name])\n",
    "    unique_values = list(set([item for sublist in all_values for item in sublist]))\n",
    "    return unique_values"
   ],
   "metadata": {
    "collapsed": false
   }
  },
  {
   "cell_type": "code",
   "execution_count": 38,
   "outputs": [],
   "source": [
    "# function that for each lists in a dataframe column replaces values from another list with a new value\n",
    "def replace_values_in_list(df, col, old_values, new_value):\n",
    "    df[col] = df[col].apply(lambda x: [new_value if check_common_elements(x, old_values) else i for i in x])\n",
    "    return df\n",
    "\n",
    "# function that checks if two lists have elements in common\n",
    "def check_common_elements(list1, list2):\n",
    "    return bool(set(list1) & set(list2))"
   ],
   "metadata": {
    "collapsed": false
   }
  },
  {
   "cell_type": "code",
   "execution_count": 39,
   "outputs": [],
   "source": [
    "countries_to_change = {}\n",
    "countries_to_change['Germany'] = ['West Germany', 'German Language',   'Weimar Republic',  'Germany',  'Nazi Germany',  'German Democratic Republic']\n",
    "countries_to_change['United Kingdom'] = ['Kingdom of Great Britain', 'United Kingdom',  'Northern Ireland',  'England',  'Wales',  'Scotland',  'Isle of Man']\n",
    "countries_to_change['Italy'] = ['Kingdom of Italy', 'Italy']\n",
    "countries_to_change['India'] = ['Malayalam Language',  'India']\n",
    "countries_to_change['Palestine'] = ['Palestinian Territories',  'Mandatory Palestine', 'Palestinian territories']\n",
    "countries_to_change['Congo'] = ['Democratic Republic of the Congo',  'Congo']\n",
    "countries_to_change['Iraq'] = ['Iraqi Kurdistan', 'Iraq']\n",
    "countries_to_change['Uzbekistan'] = ['Uzbek SSR']\n",
    "countries_to_change['Yugoslavia'] = ['Yugoslavia',  'Federal Republic of Yugoslavia',  'Socialist Federal Republic of Yugoslavia']\n",
    "countries_to_change['Georgia'] = ['Georgia', 'Georgian SSR']\n",
    "countries_to_change['China'] = ['Macau',  'China',  'Republic of China']\n",
    "countries_to_change['Ukraine'] = ['Ukrainian SSR',  'Ukraine',  'Ukranian SSR']\n",
    "countries_to_change['Russia'] = ['Crime',  'Soviet occupation zone',  'Soviet Union', 'Russia']\n",
    "countries_to_change['Slovakia'] = ['Slovak Republic',  'Slovakia', 'Slovak Republic']\n",
    "countries_to_change['Korea'] = ['South Korea', 'Korea']\n",
    "countries_to_change['The Netherlands'] = ['Aruba',  'Netherlands']"
   ],
   "metadata": {
    "collapsed": false
   }
  },
  {
   "cell_type": "code",
   "execution_count": 40,
   "outputs": [],
   "source": [
    "for country in countries_to_change:\n",
    "    df_extended = replace_values_in_list(df_extended, 'Countries', countries_to_change[country], country)"
   ],
   "metadata": {
    "collapsed": false
   }
  },
  {
   "cell_type": "code",
   "execution_count": 41,
   "outputs": [],
   "source": [
    "languages_to_change = {}\n",
    "languages_to_change['Egyptian'] = ['Egyptian,']\n",
    "languages_to_change['Apache'] = ['Apache,']\n",
    "languages_to_change['Thai'] = ['Thai,']\n",
    "languages_to_change['French'] = ['France']\n",
    "languages_to_change['English'] = ['American', 'English']\n",
    "languages_to_change['Chinese'] = ['Mandarin', 'Chinese', 'Chinese,', 'Cantonese']\n",
    "languages_to_change['German'] = ['Deutsch', 'German']\n",
    "languages_to_change['Frisian'] = ['Frisian,']\n",
    "languages_to_change['Saami'] = ['Saami,']\n",
    "languages_to_change['Maya'] = ['Maya,']\n",
    "languages_to_change['Khmer'] = ['Khmer,']\n",
    "languages_to_change['Fulfulde'] = ['Fulfulde,']"
   ],
   "metadata": {
    "collapsed": false
   }
  },
  {
   "cell_type": "code",
   "execution_count": 42,
   "outputs": [],
   "source": [
    "for language in languages_to_change:\n",
    "    df_extended = replace_values_in_list(df_extended, 'Languages', languages_to_change[language], language)"
   ],
   "metadata": {
    "collapsed": false
   }
  },
  {
   "cell_type": "markdown",
   "source": [
    "After the replacements, we have repetitions in some lists (e.g. ['American', 'English'] -> ['English', 'English']. To fix them, we change those lists into sets and then back to lists."
   ],
   "metadata": {
    "collapsed": false
   }
  },
  {
   "cell_type": "code",
   "execution_count": null,
   "outputs": [],
   "source": [
    "df_extended['Languages'] = df_extended['Languages'].apply(lambda x: list(set(x)))\n",
    "df_extended['Countries'] = df_extended['Countries'].apply(lambda x: list(set(x)))"
   ],
   "metadata": {
    "collapsed": false
   }
  },
  {
   "cell_type": "code",
   "execution_count": 51,
   "outputs": [],
   "source": [
    "df_extended.to_csv(PATH_IN + 'final_dataset.csv', sep = ',', index = False)"
   ],
   "metadata": {
    "collapsed": false
   }
  },
  {
   "cell_type": "code",
   "execution_count": 95,
   "outputs": [
    {
     "data": {
      "text/plain": "   Wikipedia ID Freebase ID  \\\n0        975900   /m/03vyhn   \n1       3196793   /m/08yl5d   \n2      28463795  /m/0crgdbh   \n\n                                                Name  Release date  Runtime  \\\n0                                     Ghosts of Mars    20010824.0     98.0   \n1  Getting Away with Murder: The JonBenét Ramsey ...    20000216.0     95.0   \n2                                        Brun bitter    19880000.0     83.0   \n\n     Languages                   Countries  \\\n0    [English]  [United States of America]   \n1    [English]  [United States of America]   \n2  [Norwegian]                    [Norway]   \n\n                                              Genres    IMDb ID  \\\n0  [Thriller, Science Fiction, Horror, Adventure,...  tt0228333   \n1   [Mystery, Biographical film, Drama, Crime Drama]  tt0245916   \n2                             [Crime Fiction, Drama]  tt0094806   \n\n   averageRating  ...     Budgets  Mpaas Box offices         Directors  \\\n0            4.9  ...  28000000.0      R  14010832.0  [John Carpenter]   \n1            5.9  ...         NaN    NaN         NaN    [Edward Lucas]   \n2            5.7  ...         NaN    NaN         NaN    [Sølve Skagen]   \n\n                            Writers           Producers  \\\n0    [Larry Sulkis, John Carpenter]        [Sandy King]   \n1   [Michael A. Graham, Ted Haimes]  [Michael Shevloff]   \n2  [Sølve Skagen, Gunnar Staalesen]      [Dag Alveberg]   \n\n                    Composers            Cinematographers  \\\n0   [Anthrax, John Carpenter]             [Gary B. Kibbe]   \n1           [Taylor M. Uhler]              [Shawn Maurer]   \n2  [Geir Bøhren, Bent Åserud]  [Erling Thurmann-Andersen]   \n\n                Editors Weighted Rating  \n0  [Paul C. Warschilka]        5.314323  \n1          [David Post]        6.228941  \n2        [Malte Wadman]        6.228963  \n\n[3 rows x 21 columns]",
      "text/html": "<div>\n<style scoped>\n    .dataframe tbody tr th:only-of-type {\n        vertical-align: middle;\n    }\n\n    .dataframe tbody tr th {\n        vertical-align: top;\n    }\n\n    .dataframe thead th {\n        text-align: right;\n    }\n</style>\n<table border=\"1\" class=\"dataframe\">\n  <thead>\n    <tr style=\"text-align: right;\">\n      <th></th>\n      <th>Wikipedia ID</th>\n      <th>Freebase ID</th>\n      <th>Name</th>\n      <th>Release date</th>\n      <th>Runtime</th>\n      <th>Languages</th>\n      <th>Countries</th>\n      <th>Genres</th>\n      <th>IMDb ID</th>\n      <th>averageRating</th>\n      <th>...</th>\n      <th>Budgets</th>\n      <th>Mpaas</th>\n      <th>Box offices</th>\n      <th>Directors</th>\n      <th>Writers</th>\n      <th>Producers</th>\n      <th>Composers</th>\n      <th>Cinematographers</th>\n      <th>Editors</th>\n      <th>Weighted Rating</th>\n    </tr>\n  </thead>\n  <tbody>\n    <tr>\n      <th>0</th>\n      <td>975900</td>\n      <td>/m/03vyhn</td>\n      <td>Ghosts of Mars</td>\n      <td>20010824.0</td>\n      <td>98.0</td>\n      <td>[English]</td>\n      <td>[United States of America]</td>\n      <td>[Thriller, Science Fiction, Horror, Adventure,...</td>\n      <td>tt0228333</td>\n      <td>4.9</td>\n      <td>...</td>\n      <td>28000000.0</td>\n      <td>R</td>\n      <td>14010832.0</td>\n      <td>[John Carpenter]</td>\n      <td>[Larry Sulkis, John Carpenter]</td>\n      <td>[Sandy King]</td>\n      <td>[Anthrax, John Carpenter]</td>\n      <td>[Gary B. Kibbe]</td>\n      <td>[Paul C. Warschilka]</td>\n      <td>5.314323</td>\n    </tr>\n    <tr>\n      <th>1</th>\n      <td>3196793</td>\n      <td>/m/08yl5d</td>\n      <td>Getting Away with Murder: The JonBenét Ramsey ...</td>\n      <td>20000216.0</td>\n      <td>95.0</td>\n      <td>[English]</td>\n      <td>[United States of America]</td>\n      <td>[Mystery, Biographical film, Drama, Crime Drama]</td>\n      <td>tt0245916</td>\n      <td>5.9</td>\n      <td>...</td>\n      <td>NaN</td>\n      <td>NaN</td>\n      <td>NaN</td>\n      <td>[Edward Lucas]</td>\n      <td>[Michael A. Graham, Ted Haimes]</td>\n      <td>[Michael Shevloff]</td>\n      <td>[Taylor M. Uhler]</td>\n      <td>[Shawn Maurer]</td>\n      <td>[David Post]</td>\n      <td>6.228941</td>\n    </tr>\n    <tr>\n      <th>2</th>\n      <td>28463795</td>\n      <td>/m/0crgdbh</td>\n      <td>Brun bitter</td>\n      <td>19880000.0</td>\n      <td>83.0</td>\n      <td>[Norwegian]</td>\n      <td>[Norway]</td>\n      <td>[Crime Fiction, Drama]</td>\n      <td>tt0094806</td>\n      <td>5.7</td>\n      <td>...</td>\n      <td>NaN</td>\n      <td>NaN</td>\n      <td>NaN</td>\n      <td>[Sølve Skagen]</td>\n      <td>[Sølve Skagen, Gunnar Staalesen]</td>\n      <td>[Dag Alveberg]</td>\n      <td>[Geir Bøhren, Bent Åserud]</td>\n      <td>[Erling Thurmann-Andersen]</td>\n      <td>[Malte Wadman]</td>\n      <td>6.228963</td>\n    </tr>\n  </tbody>\n</table>\n<p>3 rows × 21 columns</p>\n</div>"
     },
     "execution_count": 95,
     "metadata": {},
     "output_type": "execute_result"
    }
   ],
   "source": [
    "df_extended.head(3)"
   ],
   "metadata": {
    "collapsed": false
   }
  }
 ],
 "metadata": {
  "kernelspec": {
   "display_name": "Python 3",
   "language": "python",
   "name": "python3"
  },
  "language_info": {
   "codemirror_mode": {
    "name": "ipython",
    "version": 2
   },
   "file_extension": ".py",
   "mimetype": "text/x-python",
   "name": "python",
   "nbconvert_exporter": "python",
   "pygments_lexer": "ipython2",
   "version": "2.7.6"
  }
 },
 "nbformat": 4,
 "nbformat_minor": 0
}

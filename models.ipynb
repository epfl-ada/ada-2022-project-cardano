{
 "cells": [
  {
   "cell_type": "code",
   "execution_count": 1,
   "metadata": {
    "collapsed": false,
    "jupyter": {
     "outputs_hidden": false
    }
   },
   "outputs": [
    {
     "name": "stderr",
     "output_type": "stream",
     "text": [
      "/var/folders/22/z208ks5x5vv4dfqj0fjxt9l00000gn/T/ipykernel_80071/1660485189.py:17: SettingWithCopyWarning: \n",
      "A value is trying to be set on a copy of a slice from a DataFrame\n",
      "\n",
      "See the caveats in the documentation: https://pandas.pydata.org/pandas-docs/stable/user_guide/indexing.html#returning-a-view-versus-a-copy\n",
      "  df[elem][x] = ast.literal_eval(df[elem][x])\n",
      "/var/folders/22/z208ks5x5vv4dfqj0fjxt9l00000gn/T/ipykernel_80071/1660485189.py:19: SettingWithCopyWarning: \n",
      "A value is trying to be set on a copy of a slice from a DataFrame\n",
      "\n",
      "See the caveats in the documentation: https://pandas.pydata.org/pandas-docs/stable/user_guide/indexing.html#returning-a-view-versus-a-copy\n",
      "  df[elem][x] = df[elem][x]\n"
     ]
    }
   ],
   "source": [
    "import pandas as pd\n",
    "import ast\n",
    "import statsmodels.formula.api as smf\n",
    "import matplotlib.pyplot as plt\n",
    "from sklearn.model_selection import train_test_split\n",
    "from sklearn.ensemble import RandomForestRegressor\n",
    "from collections import defaultdict\n",
    "from tqdm import tqdm\n",
    "import numpy as np\n",
    "PATH_IN = './datasets/moviedata/'\n",
    "\n",
    "df = pd.read_csv(PATH_IN + 'final_dataset.csv')\n",
    "to_convert = ['Languages', 'Countries', 'Genres', 'Directors']\n",
    "for elem in to_convert:\n",
    "    for x in range(len(df)):\n",
    "        try:\n",
    "            df[elem][x] = ast.literal_eval(df[elem][x])\n",
    "        except ValueError:\n",
    "            df[elem][x] = df[elem][x]"
   ]
  },
  {
   "cell_type": "code",
   "execution_count": 2,
   "outputs": [
    {
     "name": "stdout",
     "output_type": "stream",
     "text": [
      "54884 65791\n"
     ]
    }
   ],
   "source": [
    "\"\"\"\n",
    "    Eliminate empty values from the selected features.\n",
    "    In order to do so, empty values are replaced by None,\n",
    "    which is then effeciently removed.\n",
    "\"\"\"\n",
    "\n",
    "features_to_encode = ['Languages', 'Countries', 'Genres']\n",
    "encoding_map = defaultdict()\n",
    "encoded_df = df.copy()\n",
    "\n",
    "for feature in features_to_encode:\n",
    "    encoding_map[feature] = set()\n",
    "    encoded_df[feature] = encoded_df[feature].apply(lambda x : None if len(x) == 0 else x)\n",
    "    encoded_df = encoded_df[encoded_df[feature].notna()]\n",
    "    encoded_df[feature].apply(lambda x : encoding_map[feature].update(x))\n",
    "\n",
    "for feature in features_to_encode:\n",
    "    encoding_map[feature] = list(encoding_map[feature])\n",
    "\n",
    "print(encoded_df.shape[0], df.shape[0])"
   ],
   "metadata": {
    "collapsed": false
   }
  },
  {
   "cell_type": "code",
   "execution_count": 3,
   "outputs": [],
   "source": [
    "\"\"\"\n",
    "    Preprocess a common genre, which is a combination of 2 other.\n",
    "\"\"\"\n",
    "\n",
    "def replace_values_in_list(df, col, old_values, new_value):\n",
    "    df[col] = df[col].apply(lambda x: [new_value if check_common_elements(x, old_values) else i for i in x])\n",
    "    return df\n",
    "\n",
    "# function that checks if two lists have elements in common\n",
    "def check_common_elements(list1, list2):\n",
    "    return bool(set(list1) & set(list2))\n",
    "\n",
    "encoded_df = replace_values_in_list(encoded_df, 'Genres', 'Action/Adventure', ['Action', 'Adventure'])\n",
    "encoded_df['Genres'] = encoded_df['Genres'].apply(lambda x : list(set(x)))"
   ],
   "metadata": {
    "collapsed": false
   }
  },
  {
   "cell_type": "code",
   "execution_count": 4,
   "outputs": [
    {
     "name": "stderr",
     "output_type": "stream",
     "text": [
      "100%|██████████| 3/3 [00:07<00:00,  2.49s/it]\n"
     ]
    }
   ],
   "source": [
    "\"\"\"\n",
    "    Adjust the Data format for the features below, in order to be able to create columns\n",
    "    out of the lists of categories.\n",
    "\"\"\"\n",
    "small_features = ['Languages', 'Genres', 'Countries']\n",
    "feature_map = defaultdict()\n",
    "\n",
    "chars_to_remove = set(['\\'', '[', ']', ' ', '\\\"'])\n",
    "\n",
    "for feature in tqdm(small_features):\n",
    "    feature_map[feature] = set()\n",
    "    encoded_df[feature] = encoded_df[feature].apply(lambda x : ''.join([c for c in str(x) if c not in chars_to_remove]))\n",
    "    new_columns = encoded_df[feature].str.get_dummies(',').astype(bool)\n",
    "    feature_map[feature].update(new_columns.columns)\n",
    "    new_columns = new_columns.drop(new_columns.columns[new_columns.apply(lambda col: col.sum() < 100)], axis=1)\n",
    "    encoded_df = pd.concat([encoded_df, new_columns], axis = 1)\n"
   ],
   "metadata": {
    "collapsed": false
   }
  },
  {
   "cell_type": "code",
   "execution_count": 5,
   "outputs": [
    {
     "name": "stderr",
     "output_type": "stream",
     "text": [
      "100%|██████████| 20780/20780 [00:16<00:00, 1255.93it/s]\n"
     ]
    }
   ],
   "source": [
    "\"\"\"\n",
    "    Adjust the Director data, in order to be usefull for the Feature selection.\n",
    "    Threshold is chosen, otherwise, due to the big amount of Directors,\n",
    "    the encoding is very costly.\n",
    "\"\"\"\n",
    "directors = defaultdict(int)\n",
    "def add_to_map(current_map, word_list):\n",
    "    for word in word_list:\n",
    "        directors[word] += 1\n",
    "\n",
    "encoded_df['Directors'] = encoded_df['Directors'].apply(lambda x : ''.join([c for c in str(x) if c not in chars_to_remove]))\n",
    "encoded_df['Directors'].apply(lambda x : add_to_map(directors, x.split(',')))\n",
    "for director, value in tqdm(directors.items()):\n",
    "    if value >= 20:\n",
    "        new_column = encoded_df['Directors'].apply(lambda x : director in x.split(','))\n",
    "        new_column = new_column.rename(director)\n",
    "        encoded_df = pd.concat([encoded_df, new_column], axis=1)"
   ],
   "metadata": {
    "collapsed": false
   }
  },
  {
   "cell_type": "code",
   "execution_count": 6,
   "outputs": [
    {
     "data": {
      "text/plain": "Runtime                  0.197985\nBudgets                  0.141801\nDrama                    0.024678\nAnimation                0.017045\nEnglish                  0.013417\nCrimeFiction             0.012525\nScienceFiction           0.011584\nMystery                  0.011476\nComedy                   0.011154\nCult                     0.010757\nUnitedStatesofAmerica    0.010540\nHorror                   0.010457\nThriller                 0.010401\nAdventure                0.010330\nAction                   0.010186\nRomanceFilm              0.010112\nComingofage              0.009792\nFantasy                  0.009728\nUnitedKingdom            0.008861\nIndie                    0.008244\ndtype: float64"
     },
     "execution_count": 6,
     "metadata": {},
     "output_type": "execute_result"
    }
   ],
   "source": [
    "\"\"\"\n",
    "    Obtain feature importance by utilizing a Random Forest\n",
    "\"\"\"\n",
    "\n",
    "#Drop columns, which are unnecessary\n",
    "importance_df = encoded_df.drop(columns=['Wikipedia ID', 'Freebase ID', 'Name', 'Languages', 'Countries', 'Genres', 'IMDb ID', 'Release date', 'averageRating', 'numVotes',\"Mpaas\", 'Box offices',\n",
    "                               \"Directors\", \"Writers\", \"Producers\", \"Composers\", \"Cinematographers\", \"Editors\"])\n",
    "importance_df = importance_df.dropna()\n",
    "wr = importance_df[\"Weighted Rating\"]\n",
    "\n",
    "importance_df = importance_df.drop(columns = ['Weighted Rating'])\n",
    "X_train, X_test, y_train, y_test = train_test_split(importance_df, wr, random_state=42)\n",
    "\n",
    "\n",
    "#Fit the Random Forest Regressor\n",
    "feature_names = [f\"{importance_df.columns[i]}\" for i in range(importance_df.shape[1])]\n",
    "forest = RandomForestRegressor(random_state=0)\n",
    "forest.fit(X_train, y_train)\n",
    "\n",
    "#Obtain imprortance\n",
    "importances = forest.feature_importances_\n",
    "forest_importances = pd.Series(importances, index=feature_names)\n",
    "forest_importances.sort_values(ascending = False)[:20]"
   ],
   "metadata": {
    "collapsed": false
   }
  },
  {
   "cell_type": "code",
   "execution_count": 7,
   "outputs": [],
   "source": [
    "\"\"\"\n",
    "    Get the most descriptive categories of a feature,\n",
    "    as outputed by the Random Forest.\n",
    "\"\"\"\n",
    "def get_most_descriptive_values_in_category(feature, n):\n",
    "    count = 0\n",
    "    most_descriptive = []\n",
    "    for index, value in forest_importances.sort_values(ascending = False).iteritems():\n",
    "        if index.replace(\" \", \"\") in feature_map[feature]:\n",
    "            count += 1\n",
    "            most_descriptive.append(index)\n",
    "            if count == n:\n",
    "                break\n",
    "    return most_descriptive"
   ],
   "metadata": {
    "collapsed": false
   }
  },
  {
   "cell_type": "code",
   "execution_count": 8,
   "outputs": [
    {
     "name": "stderr",
     "output_type": "stream",
     "text": [
      "/var/folders/22/z208ks5x5vv4dfqj0fjxt9l00000gn/T/ipykernel_80071/2441426546.py:9: FutureWarning: iteritems is deprecated and will be removed in a future version. Use .items instead.\n",
      "  for index, value in forest_importances.iteritems():\n"
     ]
    }
   ],
   "source": [
    "\"\"\"\n",
    "    Combine the categorical values into one\n",
    "\"\"\"\n",
    "importance_sum = defaultdict(float)\n",
    "enc = ['Languages', 'Countries', 'Genres', 'Directors']\n",
    "feature_map['Directors'] = set()\n",
    "feature_map['Directors'].update(directors.keys())\n",
    "\n",
    "for index, value in forest_importances.iteritems():\n",
    "    for feature in enc:\n",
    "        if index.replace(\" \", \"\") in feature_map[feature]:\n",
    "            importance_sum[feature] += value"
   ],
   "metadata": {
    "collapsed": false
   }
  },
  {
   "cell_type": "code",
   "execution_count": 9,
   "outputs": [
    {
     "data": {
      "text/plain": "defaultdict(float,\n            {'Languages': 0.026422302871953855,\n             'Genres': 0.4876929478825191,\n             'Countries': 0.0627707790939454,\n             'Directors': 0.08528662392775475,\n             'Budgets': 0.14180094126988632,\n             'Runtime': 0.19798478633984434})"
     },
     "execution_count": 9,
     "metadata": {},
     "output_type": "execute_result"
    }
   ],
   "source": [
    "importance_sum['Budgets'] = forest_importances['Budgets']\n",
    "importance_sum['Runtime'] = forest_importances['Runtime']\n",
    "importance_sum"
   ],
   "metadata": {
    "collapsed": false
   }
  },
  {
   "cell_type": "code",
   "execution_count": 10,
   "outputs": [],
   "source": [
    "# Therefore top Genres are Drama, Animation, Crime Fiction, Mystery, Romance , Science Fiction, Comedy, Adventure, Thriller, Action\n",
    "most_descriptive_genres = ['Drama', 'Animation', 'CrimeFiction', 'Mystery', 'RomanceFilm', 'ScienceFiction', 'Comedy', 'Adventure', 'Thriller', 'Action']\n",
    "most_descriptive_countries = ['UnitedStatesofAmerica', 'UnitedKingdom', 'Japan', 'NewZealand', 'India', 'France', 'Germany', 'Italy']\n",
    "lr_columns = most_descriptive_genres\n",
    "lr_columns.extend(most_descriptive_countries)\n",
    "lr_columns.append('Budgets')\n",
    "lr_columns.append('Runtime')\n",
    "lr_columns.append('Weighted Rating')\n",
    "lr_df = encoded_df[lr_columns]\n",
    "lr_columns.remove('Weighted Rating')\n",
    "lr_df = lr_df.dropna()\n",
    "lr_df['Budgets'] = (lr_df['Budgets'] - lr_df['Budgets'].mean()) / lr_df['Budgets'].std()\n",
    "lr_df['Runtime'] = (lr_df['Runtime'] - lr_df['Runtime'].mean()) / lr_df['Runtime'].std()\n",
    "lr_df = lr_df.rename(columns={\"Weighted Rating\": \"WR\"})"
   ],
   "metadata": {
    "collapsed": false
   }
  },
  {
   "cell_type": "code",
   "execution_count": 11,
   "metadata": {},
   "outputs": [
    {
     "data": {
      "text/plain": "                                  Weighted Rating\nRelease date Directors                           \n1900-1910    Segundo de Chomón           6.244280\n             Edwin S. Porter             6.231431\n1910-1920    Winsor McCay                6.283572\n             Quirino Cristiani           6.231468\n             Wladyslaw Starewicz         6.229471\n...                                           ...\n2010-2020    Simon Wells                 5.834747\n             Tim Hill                    5.747212\n             Zeljko Mitrovic             5.700687\n             Raja Gosnell                5.611337\n             Mike Mitchell               5.092048\n\n[1908 rows x 1 columns]",
      "text/html": "<div>\n<style scoped>\n    .dataframe tbody tr th:only-of-type {\n        vertical-align: middle;\n    }\n\n    .dataframe tbody tr th {\n        vertical-align: top;\n    }\n\n    .dataframe thead th {\n        text-align: right;\n    }\n</style>\n<table border=\"1\" class=\"dataframe\">\n  <thead>\n    <tr style=\"text-align: right;\">\n      <th></th>\n      <th></th>\n      <th>Weighted Rating</th>\n    </tr>\n    <tr>\n      <th>Release date</th>\n      <th>Directors</th>\n      <th></th>\n    </tr>\n  </thead>\n  <tbody>\n    <tr>\n      <th rowspan=\"2\" valign=\"top\">1900-1910</th>\n      <th>Segundo de Chomón</th>\n      <td>6.244280</td>\n    </tr>\n    <tr>\n      <th>Edwin S. Porter</th>\n      <td>6.231431</td>\n    </tr>\n    <tr>\n      <th rowspan=\"3\" valign=\"top\">1910-1920</th>\n      <th>Winsor McCay</th>\n      <td>6.283572</td>\n    </tr>\n    <tr>\n      <th>Quirino Cristiani</th>\n      <td>6.231468</td>\n    </tr>\n    <tr>\n      <th>Wladyslaw Starewicz</th>\n      <td>6.229471</td>\n    </tr>\n    <tr>\n      <th>...</th>\n      <th>...</th>\n      <td>...</td>\n    </tr>\n    <tr>\n      <th rowspan=\"5\" valign=\"top\">2010-2020</th>\n      <th>Simon Wells</th>\n      <td>5.834747</td>\n    </tr>\n    <tr>\n      <th>Tim Hill</th>\n      <td>5.747212</td>\n    </tr>\n    <tr>\n      <th>Zeljko Mitrovic</th>\n      <td>5.700687</td>\n    </tr>\n    <tr>\n      <th>Raja Gosnell</th>\n      <td>5.611337</td>\n    </tr>\n    <tr>\n      <th>Mike Mitchell</th>\n      <td>5.092048</td>\n    </tr>\n  </tbody>\n</table>\n<p>1908 rows × 1 columns</p>\n</div>"
     },
     "execution_count": 11,
     "metadata": {},
     "output_type": "execute_result"
    }
   ],
   "source": [
    "\"\"\"\n",
    "    Get Directors over decades, sorted based on their Weighted Rating.\n",
    "\"\"\"\n",
    "def get_directors_per_decade(df, genre = None):\n",
    "    director_df = df.copy()\n",
    "    director_df['Release date'] = director_df['Release date'].apply(lambda x : x//10000)\n",
    "    \n",
    "    if genre is not None:\n",
    "        director_df = director_df.explode('Genres')\n",
    "        director_df = director_df[director_df['Genres'] == genre]\n",
    "    \n",
    "    director_df = director_df.explode('Directors')\n",
    "    bins = np.arange(1900, 2030, 10)\n",
    "    labels = ['{}-{}'.format(i, j) for i, j in zip(bins[:-1], bins[1:])]\n",
    "    time_intervals = pd.cut(director_df['Release date'], bins=bins, labels=labels, include_lowest=True)\n",
    "\n",
    "    director_decade_group = director_df[['Directors', 'Weighted Rating']].groupby([time_intervals, 'Directors'], dropna=True).mean().dropna()\n",
    "\n",
    "    return director_decade_group.sort_values('Weighted Rating', ascending=False).sort_index(level = ['Release date'], sort_remaining=False)\n",
    "\n",
    "get_directors_per_decade(df, 'Animation')"
   ]
  },
  {
   "cell_type": "code",
   "execution_count": 12,
   "metadata": {},
   "outputs": [],
   "source": [
    "\"\"\"\n",
    "    This function performs a linear regression, using least squared error measurement.\n",
    "    The time period of interest could be specified by adding the lower and higher bounds as an argument.\n",
    "\"\"\"\n",
    "def regression(df, target, features, year_lower = 0, year_higher = 0):\n",
    "    if year_lower != 0 and year_higher != 0:\n",
    "        df['Release date'] = df['Release date'].apply(lambda x : x//10000)\n",
    "        df = df[df['Release date'] >= year_lower and df['Release date'] < year_higher]\n",
    "\n",
    "    model = smf.ols(formula='{} ~ {}'.format(target, \" + \".join(features)), data = df)\n",
    "    result = model.fit()\n",
    "    return result.summary()"
   ]
  },
  {
   "cell_type": "code",
   "execution_count": 13,
   "metadata": {},
   "outputs": [
    {
     "data": {
      "text/plain": "<class 'statsmodels.iolib.summary.Summary'>\n\"\"\"\n                            OLS Regression Results                            \n==============================================================================\nDep. Variable:                     WR   R-squared:                       0.135\nModel:                            OLS   Adj. R-squared:                  0.134\nMethod:                 Least Squares   F-statistic:                     112.7\nDate:                Fri, 23 Dec 2022   Prob (F-statistic):               0.00\nTime:                        17:46:16   Log-Likelihood:                -8287.4\nNo. Observations:               14444   AIC:                         1.662e+04\nDf Residuals:                   14423   BIC:                         1.678e+04\nDf Model:                          20                                         \nCovariance Type:            nonrobust                                         \n=================================================================================================\n                                    coef    std err          t      P>|t|      [0.025      0.975]\n-------------------------------------------------------------------------------------------------\nIntercept                         6.2072      0.011    550.015      0.000       6.185       6.229\nDrama[T.True]                     0.1586      0.008     19.791      0.000       0.143       0.174\nAnimation[T.True]                 0.3497      0.022     15.684      0.000       0.306       0.393\nCrimeFiction[T.True]              0.1039      0.011      9.148      0.000       0.082       0.126\nMystery[T.True]                   0.1009      0.015      6.593      0.000       0.071       0.131\nRomanceFilm[T.True]               0.0021      0.010      0.211      0.833      -0.017       0.021\nScienceFiction[T.True]            0.0065      0.014      0.477      0.633      -0.020       0.033\nComedy[T.True]                    0.0061      0.008      0.720      0.471      -0.011       0.023\nAdventure[T.True]                 0.0087      0.012      0.712      0.476      -0.015       0.033\nThriller[T.True]                 -0.0198      0.010     -1.926      0.054      -0.040       0.000\nAction[T.True]                   -0.0525      0.010     -5.078      0.000      -0.073      -0.032\nUnitedStatesofAmerica[T.True]     0.0190      0.011      1.782      0.075      -0.002       0.040\nUnitedKingdom[T.True]             0.0986      0.015      6.699      0.000       0.070       0.127\nJapan[T.True]                     0.1081      0.030      3.552      0.000       0.048       0.168\nNewZealand[T.True]                0.0959      0.043      2.220      0.026       0.011       0.181\nIndia[T.True]                    -0.1657      0.021     -7.760      0.000      -0.207      -0.124\nFrance[T.True]                    0.0439      0.021      2.087      0.037       0.003       0.085\nGermany[T.True]                   0.0321      0.018      1.753      0.080      -0.004       0.068\nItaly[T.True]                     0.0543      0.030      1.840      0.066      -0.004       0.112\nBudgets                           0.0040      0.004      1.106      0.269      -0.003       0.011\nRuntime                           0.1183      0.004     29.228      0.000       0.110       0.126\n==============================================================================\nOmnibus:                     2963.832   Durbin-Watson:                   2.012\nProb(Omnibus):                  0.000   Jarque-Bera (JB):            24969.832\nSkew:                           0.751   Prob(JB):                         0.00\nKurtosis:                       9.264   Cond. No.                         17.2\n==============================================================================\n\nNotes:\n[1] Standard Errors assume that the covariance matrix of the errors is correctly specified.\n\"\"\"",
      "text/html": "<table class=\"simpletable\">\n<caption>OLS Regression Results</caption>\n<tr>\n  <th>Dep. Variable:</th>           <td>WR</td>        <th>  R-squared:         </th> <td>   0.135</td> \n</tr>\n<tr>\n  <th>Model:</th>                   <td>OLS</td>       <th>  Adj. R-squared:    </th> <td>   0.134</td> \n</tr>\n<tr>\n  <th>Method:</th>             <td>Least Squares</td>  <th>  F-statistic:       </th> <td>   112.7</td> \n</tr>\n<tr>\n  <th>Date:</th>             <td>Fri, 23 Dec 2022</td> <th>  Prob (F-statistic):</th>  <td>  0.00</td>  \n</tr>\n<tr>\n  <th>Time:</th>                 <td>17:46:16</td>     <th>  Log-Likelihood:    </th> <td> -8287.4</td> \n</tr>\n<tr>\n  <th>No. Observations:</th>      <td> 14444</td>      <th>  AIC:               </th> <td>1.662e+04</td>\n</tr>\n<tr>\n  <th>Df Residuals:</th>          <td> 14423</td>      <th>  BIC:               </th> <td>1.678e+04</td>\n</tr>\n<tr>\n  <th>Df Model:</th>              <td>    20</td>      <th>                     </th>     <td> </td>    \n</tr>\n<tr>\n  <th>Covariance Type:</th>      <td>nonrobust</td>    <th>                     </th>     <td> </td>    \n</tr>\n</table>\n<table class=\"simpletable\">\n<tr>\n                <td></td>                   <th>coef</th>     <th>std err</th>      <th>t</th>      <th>P>|t|</th>  <th>[0.025</th>    <th>0.975]</th>  \n</tr>\n<tr>\n  <th>Intercept</th>                     <td>    6.2072</td> <td>    0.011</td> <td>  550.015</td> <td> 0.000</td> <td>    6.185</td> <td>    6.229</td>\n</tr>\n<tr>\n  <th>Drama[T.True]</th>                 <td>    0.1586</td> <td>    0.008</td> <td>   19.791</td> <td> 0.000</td> <td>    0.143</td> <td>    0.174</td>\n</tr>\n<tr>\n  <th>Animation[T.True]</th>             <td>    0.3497</td> <td>    0.022</td> <td>   15.684</td> <td> 0.000</td> <td>    0.306</td> <td>    0.393</td>\n</tr>\n<tr>\n  <th>CrimeFiction[T.True]</th>          <td>    0.1039</td> <td>    0.011</td> <td>    9.148</td> <td> 0.000</td> <td>    0.082</td> <td>    0.126</td>\n</tr>\n<tr>\n  <th>Mystery[T.True]</th>               <td>    0.1009</td> <td>    0.015</td> <td>    6.593</td> <td> 0.000</td> <td>    0.071</td> <td>    0.131</td>\n</tr>\n<tr>\n  <th>RomanceFilm[T.True]</th>           <td>    0.0021</td> <td>    0.010</td> <td>    0.211</td> <td> 0.833</td> <td>   -0.017</td> <td>    0.021</td>\n</tr>\n<tr>\n  <th>ScienceFiction[T.True]</th>        <td>    0.0065</td> <td>    0.014</td> <td>    0.477</td> <td> 0.633</td> <td>   -0.020</td> <td>    0.033</td>\n</tr>\n<tr>\n  <th>Comedy[T.True]</th>                <td>    0.0061</td> <td>    0.008</td> <td>    0.720</td> <td> 0.471</td> <td>   -0.011</td> <td>    0.023</td>\n</tr>\n<tr>\n  <th>Adventure[T.True]</th>             <td>    0.0087</td> <td>    0.012</td> <td>    0.712</td> <td> 0.476</td> <td>   -0.015</td> <td>    0.033</td>\n</tr>\n<tr>\n  <th>Thriller[T.True]</th>              <td>   -0.0198</td> <td>    0.010</td> <td>   -1.926</td> <td> 0.054</td> <td>   -0.040</td> <td>    0.000</td>\n</tr>\n<tr>\n  <th>Action[T.True]</th>                <td>   -0.0525</td> <td>    0.010</td> <td>   -5.078</td> <td> 0.000</td> <td>   -0.073</td> <td>   -0.032</td>\n</tr>\n<tr>\n  <th>UnitedStatesofAmerica[T.True]</th> <td>    0.0190</td> <td>    0.011</td> <td>    1.782</td> <td> 0.075</td> <td>   -0.002</td> <td>    0.040</td>\n</tr>\n<tr>\n  <th>UnitedKingdom[T.True]</th>         <td>    0.0986</td> <td>    0.015</td> <td>    6.699</td> <td> 0.000</td> <td>    0.070</td> <td>    0.127</td>\n</tr>\n<tr>\n  <th>Japan[T.True]</th>                 <td>    0.1081</td> <td>    0.030</td> <td>    3.552</td> <td> 0.000</td> <td>    0.048</td> <td>    0.168</td>\n</tr>\n<tr>\n  <th>NewZealand[T.True]</th>            <td>    0.0959</td> <td>    0.043</td> <td>    2.220</td> <td> 0.026</td> <td>    0.011</td> <td>    0.181</td>\n</tr>\n<tr>\n  <th>India[T.True]</th>                 <td>   -0.1657</td> <td>    0.021</td> <td>   -7.760</td> <td> 0.000</td> <td>   -0.207</td> <td>   -0.124</td>\n</tr>\n<tr>\n  <th>France[T.True]</th>                <td>    0.0439</td> <td>    0.021</td> <td>    2.087</td> <td> 0.037</td> <td>    0.003</td> <td>    0.085</td>\n</tr>\n<tr>\n  <th>Germany[T.True]</th>               <td>    0.0321</td> <td>    0.018</td> <td>    1.753</td> <td> 0.080</td> <td>   -0.004</td> <td>    0.068</td>\n</tr>\n<tr>\n  <th>Italy[T.True]</th>                 <td>    0.0543</td> <td>    0.030</td> <td>    1.840</td> <td> 0.066</td> <td>   -0.004</td> <td>    0.112</td>\n</tr>\n<tr>\n  <th>Budgets</th>                       <td>    0.0040</td> <td>    0.004</td> <td>    1.106</td> <td> 0.269</td> <td>   -0.003</td> <td>    0.011</td>\n</tr>\n<tr>\n  <th>Runtime</th>                       <td>    0.1183</td> <td>    0.004</td> <td>   29.228</td> <td> 0.000</td> <td>    0.110</td> <td>    0.126</td>\n</tr>\n</table>\n<table class=\"simpletable\">\n<tr>\n  <th>Omnibus:</th>       <td>2963.832</td> <th>  Durbin-Watson:     </th> <td>   2.012</td> \n</tr>\n<tr>\n  <th>Prob(Omnibus):</th>  <td> 0.000</td>  <th>  Jarque-Bera (JB):  </th> <td>24969.832</td>\n</tr>\n<tr>\n  <th>Skew:</th>           <td> 0.751</td>  <th>  Prob(JB):          </th> <td>    0.00</td> \n</tr>\n<tr>\n  <th>Kurtosis:</th>       <td> 9.264</td>  <th>  Cond. No.          </th> <td>    17.2</td> \n</tr>\n</table><br/><br/>Notes:<br/>[1] Standard Errors assume that the covariance matrix of the errors is correctly specified."
     },
     "execution_count": 13,
     "metadata": {},
     "output_type": "execute_result"
    }
   ],
   "source": [
    "regression(lr_df.copy(),\"WR\", lr_columns)"
   ]
  },
  {
   "cell_type": "code",
   "execution_count": 14,
   "metadata": {},
   "outputs": [],
   "source": [
    "animation = get_directors_per_decade(df, 'Animation')\n",
    "drama = get_directors_per_decade(df, 'Drama')"
   ]
  },
  {
   "cell_type": "code",
   "execution_count": 15,
   "metadata": {},
   "outputs": [
    {
     "data": {
      "text/plain": "                               Weighted Rating\nRelease date Directors                        \n2010-2020    Rich Moore               7.617872\n             Mamoru Hosoda            7.434025\n             Pierre Coffin            7.237197\n             Steven Spielberg         7.195816\n             Dan Scanlon              7.136992\n...                                        ...\n             Simon Wells              5.834747\n             Tim Hill                 5.747212\n             Zeljko Mitrovic          5.700687\n             Raja Gosnell             5.611337\n             Mike Mitchell            5.092048\n\n[168 rows x 1 columns]",
      "text/html": "<div>\n<style scoped>\n    .dataframe tbody tr th:only-of-type {\n        vertical-align: middle;\n    }\n\n    .dataframe tbody tr th {\n        vertical-align: top;\n    }\n\n    .dataframe thead th {\n        text-align: right;\n    }\n</style>\n<table border=\"1\" class=\"dataframe\">\n  <thead>\n    <tr style=\"text-align: right;\">\n      <th></th>\n      <th></th>\n      <th>Weighted Rating</th>\n    </tr>\n    <tr>\n      <th>Release date</th>\n      <th>Directors</th>\n      <th></th>\n    </tr>\n  </thead>\n  <tbody>\n    <tr>\n      <th rowspan=\"11\" valign=\"top\">2010-2020</th>\n      <th>Rich Moore</th>\n      <td>7.617872</td>\n    </tr>\n    <tr>\n      <th>Mamoru Hosoda</th>\n      <td>7.434025</td>\n    </tr>\n    <tr>\n      <th>Pierre Coffin</th>\n      <td>7.237197</td>\n    </tr>\n    <tr>\n      <th>Steven Spielberg</th>\n      <td>7.195816</td>\n    </tr>\n    <tr>\n      <th>Dan Scanlon</th>\n      <td>7.136992</td>\n    </tr>\n    <tr>\n      <th>...</th>\n      <td>...</td>\n    </tr>\n    <tr>\n      <th>Simon Wells</th>\n      <td>5.834747</td>\n    </tr>\n    <tr>\n      <th>Tim Hill</th>\n      <td>5.747212</td>\n    </tr>\n    <tr>\n      <th>Zeljko Mitrovic</th>\n      <td>5.700687</td>\n    </tr>\n    <tr>\n      <th>Raja Gosnell</th>\n      <td>5.611337</td>\n    </tr>\n    <tr>\n      <th>Mike Mitchell</th>\n      <td>5.092048</td>\n    </tr>\n  </tbody>\n</table>\n<p>168 rows × 1 columns</p>\n</div>"
     },
     "execution_count": 15,
     "metadata": {},
     "output_type": "execute_result"
    }
   ],
   "source": [
    "animation[animation.index.get_level_values(0) == \"2010-2020\"]"
   ]
  },
  {
   "cell_type": "code",
   "execution_count": 16,
   "metadata": {},
   "outputs": [
    {
     "data": {
      "text/plain": "                           Weighted Rating\nRelease date Directors                    \n1990-2000    Roger Allers         8.447283",
      "text/html": "<div>\n<style scoped>\n    .dataframe tbody tr th:only-of-type {\n        vertical-align: middle;\n    }\n\n    .dataframe tbody tr th {\n        vertical-align: top;\n    }\n\n    .dataframe thead th {\n        text-align: right;\n    }\n</style>\n<table border=\"1\" class=\"dataframe\">\n  <thead>\n    <tr style=\"text-align: right;\">\n      <th></th>\n      <th></th>\n      <th>Weighted Rating</th>\n    </tr>\n    <tr>\n      <th>Release date</th>\n      <th>Directors</th>\n      <th></th>\n    </tr>\n  </thead>\n  <tbody>\n    <tr>\n      <th>1990-2000</th>\n      <th>Roger Allers</th>\n      <td>8.447283</td>\n    </tr>\n  </tbody>\n</table>\n</div>"
     },
     "execution_count": 16,
     "metadata": {},
     "output_type": "execute_result"
    }
   ],
   "source": [
    "best_period = animation['Weighted Rating'].idxmax()\n",
    "b = animation[animation.index.get_level_values(0) == best_period[0]]\n",
    "b[b.index.get_level_values(1) == best_period[1]]"
   ]
  },
  {
   "cell_type": "code",
   "execution_count": 17,
   "metadata": {},
   "outputs": [
    {
     "data": {
      "text/plain": "                                        Weighted Rating\nRelease date Directors                                 \n2010-2020    Éric Toledano                     8.435343\n             Olivier Nakache                   8.435343\n             Christopher Nolan                 8.368448\n             Quentin Tarantino                 8.365343\n             Thomas Vinterberg                 8.153862\n...                                                 ...\n             John Singleton                    5.366701\n             Christian E. Christiansen         5.356511\n             Angelina Jolie                    5.344510\n             Bill Condon                       5.024805\n             Tom Six                           4.743571\n\n[1192 rows x 1 columns]",
      "text/html": "<div>\n<style scoped>\n    .dataframe tbody tr th:only-of-type {\n        vertical-align: middle;\n    }\n\n    .dataframe tbody tr th {\n        vertical-align: top;\n    }\n\n    .dataframe thead th {\n        text-align: right;\n    }\n</style>\n<table border=\"1\" class=\"dataframe\">\n  <thead>\n    <tr style=\"text-align: right;\">\n      <th></th>\n      <th></th>\n      <th>Weighted Rating</th>\n    </tr>\n    <tr>\n      <th>Release date</th>\n      <th>Directors</th>\n      <th></th>\n    </tr>\n  </thead>\n  <tbody>\n    <tr>\n      <th rowspan=\"11\" valign=\"top\">2010-2020</th>\n      <th>Éric Toledano</th>\n      <td>8.435343</td>\n    </tr>\n    <tr>\n      <th>Olivier Nakache</th>\n      <td>8.435343</td>\n    </tr>\n    <tr>\n      <th>Christopher Nolan</th>\n      <td>8.368448</td>\n    </tr>\n    <tr>\n      <th>Quentin Tarantino</th>\n      <td>8.365343</td>\n    </tr>\n    <tr>\n      <th>Thomas Vinterberg</th>\n      <td>8.153862</td>\n    </tr>\n    <tr>\n      <th>...</th>\n      <td>...</td>\n    </tr>\n    <tr>\n      <th>John Singleton</th>\n      <td>5.366701</td>\n    </tr>\n    <tr>\n      <th>Christian E. Christiansen</th>\n      <td>5.356511</td>\n    </tr>\n    <tr>\n      <th>Angelina Jolie</th>\n      <td>5.344510</td>\n    </tr>\n    <tr>\n      <th>Bill Condon</th>\n      <td>5.024805</td>\n    </tr>\n    <tr>\n      <th>Tom Six</th>\n      <td>4.743571</td>\n    </tr>\n  </tbody>\n</table>\n<p>1192 rows × 1 columns</p>\n</div>"
     },
     "execution_count": 17,
     "metadata": {},
     "output_type": "execute_result"
    }
   ],
   "source": [
    "drama[drama.index.get_level_values(0) == \"2010-2020\"]"
   ]
  },
  {
   "cell_type": "code",
   "execution_count": 20,
   "metadata": {},
   "outputs": [
    {
     "data": {
      "text/plain": "                             Weighted Rating\nRelease date Directors                      \n1990-2000    Frank Darabont         8.913211",
      "text/html": "<div>\n<style scoped>\n    .dataframe tbody tr th:only-of-type {\n        vertical-align: middle;\n    }\n\n    .dataframe tbody tr th {\n        vertical-align: top;\n    }\n\n    .dataframe thead th {\n        text-align: right;\n    }\n</style>\n<table border=\"1\" class=\"dataframe\">\n  <thead>\n    <tr style=\"text-align: right;\">\n      <th></th>\n      <th></th>\n      <th>Weighted Rating</th>\n    </tr>\n    <tr>\n      <th>Release date</th>\n      <th>Directors</th>\n      <th></th>\n    </tr>\n  </thead>\n  <tbody>\n    <tr>\n      <th>1990-2000</th>\n      <th>Frank Darabont</th>\n      <td>8.913211</td>\n    </tr>\n  </tbody>\n</table>\n</div>"
     },
     "execution_count": 20,
     "metadata": {},
     "output_type": "execute_result"
    }
   ],
   "source": [
    "best_period = drama['Weighted Rating'].idxmax()\n",
    "b = drama[drama.index.get_level_values(0) == best_period[0]]\n",
    "b[b.index.get_level_values(1) == best_period[1]]"
   ]
  },
  {
   "cell_type": "code",
   "execution_count": 21,
   "metadata": {},
   "outputs": [],
   "source": [
    "\"\"\"\n",
    "    Get Directors based on Genre.\n",
    "\"\"\"\n",
    "def get_directors_by_genre(df, genre):\n",
    "    director_df = df.copy()\n",
    "    director_df = director_df[['Directors', 'Genres', 'Weighted Rating']]\n",
    "    director_df = director_df.explode('Genres')\n",
    "    director_df = director_df.explode('Directors')\n",
    "    director_df = director_df[director_df['Genres'] == genre]\n",
    "    \n",
    "    return director_df[director_df['Directors'].groupby(director_df['Directors']).transform('size') > 5].groupby('Directors', as_index=False)['Weighted Rating'].mean()\n"
   ]
  },
  {
   "cell_type": "code",
   "execution_count": 22,
   "metadata": {},
   "outputs": [
    {
     "data": {
      "text/plain": "Directors          Yoshiaki Kawajiri\nWeighted Rating              7.35902\ndtype: object"
     },
     "execution_count": 22,
     "metadata": {},
     "output_type": "execute_result"
    }
   ],
   "source": [
    "directors_animation = get_directors_by_genre(df, 'Animation')\n",
    "directors_animation.max()"
   ]
  },
  {
   "cell_type": "code",
   "execution_count": 23,
   "metadata": {},
   "outputs": [
    {
     "data": {
      "text/plain": "Directors          Éric Rohmer\nWeighted Rating       8.150876\ndtype: object"
     },
     "execution_count": 23,
     "metadata": {},
     "output_type": "execute_result"
    }
   ],
   "source": [
    "directors_drama = get_directors_by_genre(df, 'Drama')\n",
    "directors_drama.max()"
   ]
  }
 ],
 "metadata": {
  "kernelspec": {
   "display_name": "Python 3 (ipykernel)",
   "language": "python",
   "name": "python3"
  },
  "language_info": {
   "codemirror_mode": {
    "name": "ipython",
    "version": 3
   },
   "file_extension": ".py",
   "mimetype": "text/x-python",
   "name": "python",
   "nbconvert_exporter": "python",
   "pygments_lexer": "ipython3",
   "version": "3.9.13"
  }
 },
 "nbformat": 4,
 "nbformat_minor": 4
}
